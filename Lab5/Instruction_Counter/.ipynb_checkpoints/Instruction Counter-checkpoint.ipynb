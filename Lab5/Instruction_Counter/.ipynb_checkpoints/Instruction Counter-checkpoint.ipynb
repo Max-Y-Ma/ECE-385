{
 "cells": [
  {
   "cell_type": "code",
   "execution_count": 27,
   "id": "36bb5a76",
   "metadata": {},
   "outputs": [
    {
     "name": "stdout",
     "output_type": "stream",
     "text": [
      "There were 1638 instructions executed!\n"
     ]
    }
   ],
   "source": [
    "# Counts Number of Unique Instructions\n",
    "\n",
    "instructions = open(\"Sort_Test.txt\", 'r')\n",
    "\n",
    "previous = \"prev\"\n",
    "num_instructions = 0\n",
    "for inst in instructions:\n",
    "    if (previous != inst[-7:]):\n",
    "        num_instructions += 1\n",
    "        previous = inst[-7:]\n",
    "\n",
    "print (\"There were {} instructions executed!\" .format(num_instructions))\n",
    "\n",
    "instructions.close()"
   ]
  },
  {
   "cell_type": "code",
   "execution_count": null,
   "id": "11d086c2",
   "metadata": {},
   "outputs": [],
   "source": []
  }
 ],
 "metadata": {
  "kernelspec": {
   "display_name": "Python 3",
   "language": "python",
   "name": "python3"
  },
  "language_info": {
   "codemirror_mode": {
    "name": "ipython",
    "version": 3
   },
   "file_extension": ".py",
   "mimetype": "text/x-python",
   "name": "python",
   "nbconvert_exporter": "python",
   "pygments_lexer": "ipython3",
   "version": "3.7.0"
  }
 },
 "nbformat": 4,
 "nbformat_minor": 5
}
